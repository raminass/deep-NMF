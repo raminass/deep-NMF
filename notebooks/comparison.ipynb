{
  "cells": [
    {
      "cell_type": "markdown",
      "metadata": {
        "id": "view-in-github",
        "colab_type": "text"
      },
      "source": [
        "<a href=\"https://colab.research.google.com/github/raminass/deep-NMF/blob/master/comparison.ipynb\" target=\"_parent\"><img src=\"https://colab.research.google.com/assets/colab-badge.svg\" alt=\"Open In Colab\"/></a>"
      ]
    },
    {
      "cell_type": "code",
      "metadata": {
        "id": "PL4mm28_J974",
        "colab_type": "code",
        "colab": {}
      },
      "source": [
        "from utils import *\n",
        "import numpy as np\n",
        "from sklearn.decomposition import NMF\n",
        "import nimfa as nm\n",
        "import pandas as pd\n",
        "import torch.optim as optim\n",
        "from matplotlib import pyplot as plt\n",
        "from my_layers import *\n",
        "\n",
        "#  Execute all 'print' statments of a cell instead of only the last one\n",
        "from IPython.core.interactiveshell import InteractiveShell\n",
        "InteractiveShell.ast_node_interactivity = \"all\"\n"
      ],
      "execution_count": 100,
      "outputs": []
    },
    {
      "cell_type": "code",
      "execution_count": 72,
      "metadata": {},
      "outputs": [],
      "source": [
        "signatures_df = pd.read_csv(\"../data/simulated/ground.truth.syn.sigs.csv\", sep=\",\")\n",
        "exposures_df = pd.read_csv(\"../data/simulated/ground.truth.syn.exposures.csv\", sep=\",\")\n",
        "category_df = pd.read_csv(\"../data/simulated/ground.truth.syn.catalog.csv\", sep=\",\")\n",
        "# to use genetic synthytic data\n",
        "W = signatures_df.iloc[:, 2:].values  # (f,k)\n",
        "H = exposures_df.iloc[:, 1:].values  # (k,n)\n",
        "V = category_df.iloc[:, 2:].values  # (f,n)\n",
        "n_components = H.shape[0]\n",
        "features, samples = V.shape"
      ]
    },
    {
      "cell_type": "code",
      "metadata": {
        "id": "3MwvbeS-9bpP",
        "colab_type": "code",
        "colab": {}
      },
      "source": [
        "# to use simulated data\n",
        "n_components = 21\n",
        "W = abs(np.random.randn(96, n_components))  # (f,k) normal\n",
        "H = abs(np.random.randn(n_components, 1350))  # (k,n) normal\n",
        "V = W.dot(H) + 0.1 * np.random.randn(96, 1350)  # (f,n)\n"
      ],
      "execution_count": 69,
      "outputs": []
    },
    {
      "cell_type": "code",
      "execution_count": 75,
      "metadata": {},
      "outputs": [],
      "source": [
        "TRAIN_SIZE = 0.80\n",
        "mask = np.random.rand(samples) < TRAIN_SIZE\n",
        "H_init = initialize_exposures(V, n_components, method=\"ones\")  # (n,k)"
      ]
    },
    {
      "cell_type": "code",
      "metadata": {
        "id": "Rspo3Sld0u7e",
        "colab_type": "code",
        "colab": {
          "base_uri": "https://localhost:8080/",
          "height": 52
        },
        "outputId": "55a4a1d6-def1-4427-a252-e46eaf13fb95"
      },
      "source": [
        "scikit_mu = NMF(n_components, solver=\"mu\")\n",
        "w_scikit_mu = scikit_mu.fit_transform(V[:, mask].T)\n",
        "# scikit_mu.reconstruction_err_\n",
        "\n",
        "scikit_cd = NMF(n_components)\n",
        "w_scikit_cd = scikit_cd.fit_transform(V[:, mask].T)\n",
        "# scikit_cd.reconstruction_err_\n",
        "\n",
        "nimfa_model = nm.Nmf(V[:, mask], rank=n_components, max_iter=200, track_error=True)\n",
        "nimfa_fit = nimfa_model.factorize()\n",
        "# np.sqrt(nimfa_model.tracker.get_error())[-1]\n",
        "\n",
        "w_mu, h_mu = nimfa_model.seed.initialize(V[:, mask],n_components,nimfa_model.options)\n",
        "w_mu = np.asarray(w_mu)\n",
        "h_mu = np.asarray(h_mu)\n",
        "mu_training_cost = []\n",
        "for i in range(200):\n",
        "    w_mu, h_mu = mu_update(V[:, mask], w_mu, h_mu, 0, 0)\n",
        "    mu_training_cost.append(cost_function(V[:, mask], w_mu, h_mu, 0, 0))\n",
        "# mu_training_cost[-1]"
      ],
      "execution_count": 78,
      "outputs": []
    },
    {
      "cell_type": "code",
      "execution_count": 79,
      "metadata": {},
      "outputs": [
        {
          "output_type": "execute_result",
          "data": {
            "text/plain": "68076398.27987593"
          },
          "metadata": {},
          "execution_count": 79
        },
        {
          "output_type": "execute_result",
          "data": {
            "text/plain": "242349.3847509567"
          },
          "metadata": {},
          "execution_count": 79
        },
        {
          "output_type": "execute_result",
          "data": {
            "text/plain": "48719612.1061976"
          },
          "metadata": {},
          "execution_count": 79
        },
        {
          "output_type": "execute_result",
          "data": {
            "text/plain": "45016844.625070356"
          },
          "metadata": {},
          "execution_count": 79
        }
      ],
      "source": [
        "cost_function(V[:, mask], scikit_mu.components_.T,w_scikit_mu.T,0,0) # equal to np.power(frobenius_reconstruct_error(V, nimfa_model.W,nimfa_model.H),2)*0.5\n",
        "cost_function(V[:, mask], scikit_cd.components_.T,w_scikit_cd.T,0,0) \n",
        "cost_function(V[:, mask], nimfa_model.W,nimfa_model.H,0,0)\n",
        "cost_function(V[:, mask], w_mu,h_mu,0,0)"
      ]
    },
    {
      "cell_type": "markdown",
      "metadata": {},
      "source": [
        "## Prediction"
      ]
    },
    {
      "cell_type": "code",
      "execution_count": 85,
      "metadata": {},
      "outputs": [],
      "source": [
        "scikit_mu_pred = scikit_mu.transform(V[:, ~mask].T)\n",
        "scikit_cd_pred = scikit_cd.transform(V[:, ~mask].T)\n",
        "# nimfa_model_pred = nimfa_model.predict(V[:, ~mask])\n",
        "_, h_mu_pred = nimfa_model.seed.initialize(V[:, ~mask],n_components,nimfa_model.options)\n",
        "h_mu_pred = np.asarray(h_mu_pred)\n",
        "mu_test_cost = []\n",
        "for i in range(50):\n",
        "    _, h_mu_pred = mu_update(V[:, ~mask], w_mu, h_mu_pred, 0, 0,update_W=False)\n",
        "    mu_test_cost.append(cost_function(V[:, ~mask], w_mu, h_mu_pred, 0, 0))"
      ]
    },
    {
      "cell_type": "code",
      "execution_count": 90,
      "metadata": {},
      "outputs": [
        {
          "output_type": "execute_result",
          "data": {
            "text/plain": "289966146.78805625"
          },
          "metadata": {},
          "execution_count": 90
        },
        {
          "output_type": "execute_result",
          "data": {
            "text/plain": "6085561.870241653"
          },
          "metadata": {},
          "execution_count": 90
        },
        {
          "output_type": "execute_result",
          "data": {
            "text/plain": "74685425.82434121"
          },
          "metadata": {},
          "execution_count": 90
        }
      ],
      "source": [
        "cost_function(V[:, ~mask], scikit_mu.components_.T,scikit_mu_pred.T,0,0) # equal to np.power(frobenius_reconstruct_error(V, nimfa_model.W,nimfa_model.H),2)*0.5\n",
        "cost_function(V[:, ~mask], scikit_cd.components_.T,scikit_cd_pred.T,0,0) \n",
        "cost_function(V[:, ~mask], w_mu,h_mu_pred,0,0)"
      ]
    },
    {
      "cell_type": "markdown",
      "metadata": {},
      "source": [
        "# Network"
      ]
    },
    {
      "cell_type": "code",
      "execution_count": 94,
      "metadata": {},
      "outputs": [],
      "source": [
        "H_init = np.ones((n_components, samples))\n",
        "\n",
        "#Tensoring\n",
        "v_train = torch.from_numpy(V[:, mask].T).float()\n",
        "v_test = torch.from_numpy(V[:, ~mask].T).float()\n",
        "\n",
        "h_train = torch.from_numpy(w_scikit_cd).float()\n",
        "h_test = torch.from_numpy(scikit_cd_pred).float()\n",
        "\n",
        "h_0_train = torch.from_numpy(H_init[:, mask].T).float()\n",
        "h_0_test = torch.from_numpy(H_init[:, ~mask].T).float()\n",
        "\n",
        "W_tensor = torch.from_numpy(scikit_cd.components_).float()\n"
      ]
    },
    {
      "cell_type": "code",
      "execution_count": 105,
      "metadata": {},
      "outputs": [
        {
          "output_type": "execute_result",
          "data": {
            "text/plain": "MultiFrDNMFNet(\n  (deep_nmfs): ModuleList(\n    (0): FrNMFLayer(\n      (fc1): Linear(in_features=39, out_features=39, bias=False)\n      (fc2): Linear(in_features=96, out_features=39, bias=False)\n    )\n    (1): FrNMFLayer(\n      (fc1): Linear(in_features=39, out_features=39, bias=False)\n      (fc2): Linear(in_features=96, out_features=39, bias=False)\n    )\n    (2): FrNMFLayer(\n      (fc1): Linear(in_features=39, out_features=39, bias=False)\n      (fc2): Linear(in_features=96, out_features=39, bias=False)\n    )\n    (3): FrNMFLayer(\n      (fc1): Linear(in_features=39, out_features=39, bias=False)\n      (fc2): Linear(in_features=96, out_features=39, bias=False)\n    )\n    (4): FrNMFLayer(\n      (fc1): Linear(in_features=39, out_features=39, bias=False)\n      (fc2): Linear(in_features=96, out_features=39, bias=False)\n    )\n    (5): FrNMFLayer(\n      (fc1): Linear(in_features=39, out_features=39, bias=False)\n      (fc2): Linear(in_features=96, out_features=39, bias=False)\n    )\n    (6): FrNMFLayer(\n      (fc1): Linear(in_features=39, out_features=39, bias=False)\n      (fc2): Linear(in_features=96, out_features=39, bias=False)\n    )\n  )\n)"
          },
          "metadata": {},
          "execution_count": 105
        }
      ],
      "source": [
        "from utils import *\n",
        "lr = 0.0009\n",
        "num_layers = 7\n",
        "network_train_iteration = 400\n",
        "\n",
        "constraints = WeightClipper(lower=0)\n",
        "deep_nmf = MultiFrDNMFNet(num_layers, n_components, features)\n",
        "deep_nmf.apply(constraints) #prints the network \n",
        "criterion = nn.MSELoss(reduction=\"mean\")\n",
        "\n",
        "optimizerADAM = optim.Adam(deep_nmf.parameters(), lr=lr)\n",
        "\n",
        "    # Train the Network\n",
        "inputs = (h_0_train, v_train)\n"
      ]
    }
  ],
  "metadata": {
    "colab": {
      "name": "comparison.ipynb",
      "provenance": [],
      "collapsed_sections": [],
      "toc_visible": true,
      "include_colab_link": true
    },
    "kernelspec": {
      "name": "python37664bitnmfvirtualenvacb04322a3ff4390a23cb4b66be0591e",
      "display_name": "Python 3.7.6 64-bit ('nmf': virtualenv)"
    }
  },
  "nbformat": 4,
  "nbformat_minor": 0
}