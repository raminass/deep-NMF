{
  "nbformat": 4,
  "nbformat_minor": 0,
  "metadata": {
    "colab": {
      "name": "Ongoing.ipynb",
      "provenance": [],
      "collapsed_sections": [],
      "authorship_tag": "ABX9TyNoKx+a7TWNDxHHdp/ZLt0d",
      "include_colab_link": true
    },
    "kernelspec": {
      "name": "python3",
      "display_name": "Python 3"
    }
  },
  "cells": [
    {
      "cell_type": "markdown",
      "metadata": {
        "id": "view-in-github",
        "colab_type": "text"
      },
      "source": [
        "<a href=\"https://colab.research.google.com/github/raminass/deep-NMF/blob/master/Ongoing.ipynb\" target=\"_parent\"><img src=\"https://colab.research.google.com/assets/colab-badge.svg\" alt=\"Open In Colab\"/></a>"
      ]
    },
    {
      "cell_type": "markdown",
      "metadata": {
        "id": "9L_1nbiqmSkK",
        "colab_type": "text"
      },
      "source": [
        "### Background\n",
        "NMF receives input matrix $V_{(FxN)}$ and number of factors $K$.\n",
        "\n",
        "And it outputs non-negative matrices $W_{FxK}$, $H_{KxN}$: \n",
        "\n",
        ">>>> $V \\approx WH$\n",
        "\n",
        "Solve:\n",
        "\n",
        ">>>>$\\hat{W},\\hat{H} = \\underset{W\\geq0,H\\geq0}{\\operatorname{argmin}} d_{\\beta}(V|WH)$ \n",
        "\n",
        "\n",
        "Method\n",
        "\n",
        " 1.  MU *(Févotte et al., 2009)*:\n",
        "\n",
        "\n",
        "\n",
        ">>>>$H \\gets H \\odot \\dfrac{W^T[V \\odot(WH)^{\\beta-2}]}{W^T(WH)^{\\beta-1}}$\n",
        "\n",
        ">>>>$W \\gets H \\odot \\dfrac{W^T[V \\odot(WH)^{\\beta-2}]}{W^T(WH)^{\\beta-1}}$\n"
      ]
    },
    {
      "cell_type": "markdown",
      "metadata": {
        "id": "aM9444Cb3VV2",
        "colab_type": "text"
      },
      "source": [
        "\n",
        "### Our Problem - Case 1 (Euc)\n",
        "\n",
        "Given:\n",
        "1. an input sample $v\\in{R^{f}}$\n",
        "2. dictionary $W\\in\\mathbb R^{f x k}_{\\ge 0}$\n",
        "\n",
        "We seek $h\\in\\mathbb R^{k}_{\\ge 0}$:\n",
        "\n",
        ">>$\\underset{h\\geq0}{\\operatorname{min}} \\| v - Wh \\|^2_F$ \n",
        "\n",
        "A popular method of solving this iterativly is the Multiplicative update(Lee,Seung):\n",
        "\n",
        "\n",
        ">>$ h^{l+1} \\gets h^l \\odot \\dfrac{W^tv}{W^tWh^l},\\space \\beta=2$\n",
        "\n",
        "$\\odot, \\dfrac{[.]}{[.]}$ denotes component-wise multiplication, division respectivly.\n",
        "\n",
        "#### Unrolling(EUC)\n",
        "In the unrolled network implicit subtitution of the parameters has been made as follow:\n",
        "\n",
        ">>$W_1 = W^t$\n",
        "\n",
        ">>$W_2 = W^tW$\n",
        "\n",
        "So a netwrok layer will perform the following:\n",
        "\n",
        "$h^{l+1} \\gets h^l \\odot \\dfrac{W^l_1v}{W^l_2h^l}$\n",
        "\n",
        "The network trained using truth dataset to optimize the parameters($W_1,W_2$),\n",
        "\n",
        "$v_1, v_2, ... v_N \\in R^f$ and their corresponding coeffecient vectors $h_1, h_2, ... h_N \\in R^k$\n",
        "\n",
        "\n",
        "Training proceedure:\n",
        "\n",
        "*  feed $v_i$\n",
        "*  feed initial $h^{0}_i$\n",
        "*  retrieve output $\\hat{h}_i$\n",
        "*  calculate Loss = $MSE(h_i,\\hat{h}_i$)\n",
        "\n",
        "The network is trained through minimizing the loss function, the weights/parameters are updated using constrained gradeint decent to keep them non-negative.\n",
        "\n",
        "\n"
      ]
    },
    {
      "cell_type": "markdown",
      "metadata": {
        "id": "MvG-tXcpAUmP",
        "colab_type": "text"
      },
      "source": [
        "### scheme of Layer"
      ]
    },
    {
      "cell_type": "markdown",
      "metadata": {
        "id": "q9OrLE_pNt8r",
        "colab_type": "text"
      },
      "source": [
        "![image.png](data:image/png;base64,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)"
      ]
    },
    {
      "cell_type": "markdown",
      "metadata": {
        "id": "Q4blyyRUtf--",
        "colab_type": "text"
      },
      "source": [
        "$W_1$ module:\n",
        "\n",
        "*   $v \\in \\mathbb{R^f}$ - input vector\n",
        "*   $a^{l+1} \\in \\mathbb{R^c}$ - output vector\n",
        "*   $W^{l}_1 \\in \\mathbb{R}^{f,c}$ - weights matrix\n",
        "*   $W^{l}_1v^{l}_i = a^{l+1}_i$\n",
        "\n",
        "$W_2$ module:\n",
        "\n",
        "*   $h \\in \\mathbb{R^c}$ - input vector \n",
        "*   $b \\in \\mathbb{R^f}$ - output vector\n",
        "*   $W^{l}_2 \\in \\mathbb{R}^{c,f}$ - weights matrix\n",
        "*   $W^{l}_2h^{l}_i = b^{l+1}_i$\n"
      ]
    },
    {
      "cell_type": "markdown",
      "metadata": {
        "id": "fIfJtSSSAag9",
        "colab_type": "text"
      },
      "source": [
        ""
      ]
    }
  ]
}