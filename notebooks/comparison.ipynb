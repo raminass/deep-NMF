{
  "cells": [
    {
      "cell_type": "markdown",
      "metadata": {
        "id": "view-in-github",
        "colab_type": "text"
      },
      "source": [
        "<a href=\"https://colab.research.google.com/github/raminass/deep-NMF/blob/master/comparison.ipynb\" target=\"_parent\"><img src=\"https://colab.research.google.com/assets/colab-badge.svg\" alt=\"Open In Colab\"/></a>"
      ]
    },
    {
      "cell_type": "markdown",
      "metadata": {
        "id": "aJGy0a_j3DSm",
        "colab_type": "text"
      },
      "source": [
        "## Setup"
      ]
    },
    {
      "cell_type": "code",
      "metadata": {
        "id": "Tqg2Gpr_0iU7",
        "colab_type": "code",
        "colab": {
          "base_uri": "https://localhost:8080/",
          "height": 54
        },
        "outputId": "124aa699-356c-485b-97d3-9e264f38b213"
      },
      "source": [
        "from google.colab import drive\n",
        "drive.mount('/content/drive')"
      ],
      "execution_count": null,
      "outputs": []
    },
    {
      "cell_type": "code",
      "metadata": {
        "id": "Rspo3Sld0u7e",
        "colab_type": "code",
        "colab": {
          "base_uri": "https://localhost:8080/",
          "height": 52
        },
        "outputId": "55a4a1d6-def1-4427-a252-e46eaf13fb95"
      },
      "source": [
        "%cd drive/My Drive/deep_nmf"
      ],
      "execution_count": null,
      "outputs": []
    },
    {
      "cell_type": "code",
      "metadata": {
        "id": "PL4mm28_J974",
        "colab_type": "code",
        "colab": {}
      },
      "source": [
        "import utils\n",
        "import numpy as np\n",
        "from sklearn.decomposition import NMF\n",
        "import sklearn.decomposition as sk_deco\n",
        "import torch.optim as optim\n",
        "import torch.utils.data as data_utils\n",
        "from torch.utils.data.dataset import random_split\n",
        "import torch\n",
        "from my_layers import *\n",
        "from matplotlib import pyplot as plt\n",
        "\n",
        "#  Execute all 'print' statments of a cell instead of only the last one\n",
        "from IPython.core.interactiveshell import InteractiveShell\n",
        "InteractiveShell.ast_node_interactivity = \"all\"\n"
      ],
      "execution_count": null,
      "outputs": []
    },
    {
      "cell_type": "code",
      "metadata": {
        "id": "3MwvbeS-9bpP",
        "colab_type": "code",
        "colab": {}
      },
      "source": [
        "# Data Loading\n",
        "M = np.load('synthetic_data/x.syn.many.types.0.5_sp.sp.npy')\n",
        "X = M.T"
      ],
      "execution_count": null,
      "outputs": []
    },
    {
      "cell_type": "code",
      "metadata": {
        "id": "Mq9moNrb-reC",
        "colab_type": "code",
        "colab": {}
      },
      "source": [
        "#params\n",
        "n_components = 21  # from summary table\n",
        "samples, features = X.shape"
      ],
      "execution_count": null,
      "outputs": []
    },
    {
      "cell_type": "code",
      "metadata": {
        "id": "XrbcinRm0Psq",
        "colab_type": "code",
        "colab": {}
      },
      "source": [
        "W_init, H_init = sk_deco._nmf._initialize_nmf(X, n_components, init='nndsvd')"
      ],
      "execution_count": null,
      "outputs": []
    },
    {
      "cell_type": "code",
      "metadata": {
        "id": "Ama7jEf7G31o",
        "colab_type": "code",
        "colab": {}
      },
      "source": [
        "#split train/test\n",
        "TRAIN_SIZE = 0.80\n",
        "mask = np.random.rand(samples) < TRAIN_SIZE\n",
        "\n",
        "X_train = X[mask]  \n",
        "X_test = X[~mask] "
      ],
      "execution_count": null,
      "outputs": []
    },
    {
      "cell_type": "code",
      "metadata": {
        "id": "dTdTNKxpELVw",
        "colab_type": "code",
        "colab": {
          "base_uri": "https://localhost:8080/",
          "height": 72
        },
        "outputId": "349d9c86-a27f-4397-b38b-c374d06ab280"
      },
      "source": [
        "# MU building target labels for training using Scikit NMF\n",
        "nmf_mu = NMF(n_components=n_components, solver='mu', beta_loss='frobenius', init='custom')\n",
        "W_train_mu = nmf_mu.fit_transform(X_train,W=W_init[mask],H=H_init)\n",
        "H_mu = nmf_mu.components_\n",
        "W_test_mu = nmf_mu.transform(X_test)"
      ],
      "execution_count": null,
      "outputs": []
    },
    {
      "cell_type": "code",
      "metadata": {
        "id": "JnMZh3tQ0Ps3",
        "colab_type": "code",
        "colab": {}
      },
      "source": [
        "nmf_cd = NMF(n_components=n_components, solver='cd', beta_loss='frobenius', init='custom')\n",
        "W_train_cd = nmf_cd.fit_transform(X_train,W=W_init[mask],H=H_init)\n",
        "H_cd = nmf_cd.components_\n",
        "W_test_cd = nmf_cd.transform(X_test)"
      ],
      "execution_count": null,
      "outputs": []
    },
    {
      "cell_type": "code",
      "metadata": {
        "id": "hoUOxAe20Ps6",
        "colab_type": "code",
        "colab": {}
      },
      "source": [
        "W_bcd, H_bcd = utils.sBCD_update(X_train, W_init[mask], H_init, O=1,obj='euc')"
      ],
      "execution_count": null,
      "outputs": []
    },
    {
      "cell_type": "code",
      "metadata": {
        "id": "eO8KjfGJ0Ps-",
        "colab_type": "code",
        "colab": {
          "base_uri": "https://localhost:8080/",
          "height": 69
        },
        "outputId": "1aab1ae6-e2e7-4b2f-e3f9-67fefb96336c"
      },
      "source": [
        "print(sk_deco._nmf._beta_divergence(X_train, W_train_cd, H_cd, 2,square_root=True))\n",
        "print(sk_deco._nmf._beta_divergence(X_train, W_train_mu, H_mu, 2,square_root=True))\n",
        "print(sk_deco._nmf._beta_divergence(X_train, W_bcd, H_bcd, 2,square_root=True))"
      ],
      "execution_count": null,
      "outputs": []
    },
    {
      "cell_type": "code",
      "metadata": {
        "id": "f9efttQE0PtC",
        "colab_type": "code",
        "colab": {
          "base_uri": "https://localhost:8080/",
          "height": 34
        },
        "outputId": "3e79f401-835f-4b51-9cdd-e3e2654686ff"
      },
      "source": [
        "sk_deco._nmf._beta_divergence(X_test, W_test_cd, H_cd, 2,square_root=True)\n",
        "sk_deco._nmf._beta_divergence(X_test, W_test_mu, H_mu, 2,square_root=True)"
      ],
      "execution_count": null,
      "outputs": []
    },
    {
      "cell_type": "code",
      "metadata": {
        "id": "0Eh3whhq0PtH",
        "colab_type": "code",
        "colab": {
          "base_uri": "https://localhost:8080/",
          "height": 106
        },
        "outputId": "444a58c7-be89-4ff9-c8a0-0a608f9c35d6"
      },
      "source": [
        "# MU building target labels for training using Scikit NMF\n",
        "nmf_mu = NMF(n_components=n_components, solver='mu', beta_loss='kullback-leibler', init='custom')\n",
        "W_train_mu = nmf_mu.fit_transform(X_train,W=W_init[mask],H=H_init)\n",
        "H_mu = nmf_mu.components_\n",
        "W_test_mu = nmf_mu.transform(X_test)"
      ],
      "execution_count": null,
      "outputs": []
    },
    {
      "cell_type": "code",
      "metadata": {
        "id": "oEYP9WJL0PtK",
        "colab_type": "code",
        "colab": {}
      },
      "source": [
        "W_bcd, H_bcd = utils.sBCD_update(X_train, W_init[mask], H_init, O=1,obj='kl')"
      ],
      "execution_count": null,
      "outputs": []
    },
    {
      "cell_type": "code",
      "metadata": {
        "id": "GC_Hlz6S0PtO",
        "colab_type": "code",
        "colab": {},
        "outputId": "369b6969-a9dd-424e-b61a-b979dc0a86b8"
      },
      "source": [
        "# sk_deco._nmf._beta_divergence(X_train, W_train_cd, H_cd, 1,square_root=True)\n",
        "sk_deco._nmf._beta_divergence(X_train, W_train_mu, H_mu, 1,square_root=True)\n",
        "sk_deco._nmf._beta_divergence(X_train, W_bcd, H_bcd, 1,square_root=True)"
      ],
      "execution_count": null,
      "outputs": []
    },
    {
      "cell_type": "markdown",
      "metadata": {
        "id": "C8uTdUmNIvyL",
        "colab_type": "text"
      },
      "source": [
        "#### initialize exposures\n",
        "\n"
      ]
    },
    {
      "cell_type": "code",
      "metadata": {
        "id": "StdOwMK4IJEW",
        "colab_type": "code",
        "colab": {}
      },
      "source": [
        "W0_train = W_init[mask]\n",
        "W0_test = W_init[~mask] # might be per sample or include the whole X ??"
      ],
      "execution_count": null,
      "outputs": []
    },
    {
      "cell_type": "markdown",
      "metadata": {
        "id": "pWMr2FwyJRKa",
        "colab_type": "text"
      },
      "source": [
        "#### Tensoring the Arrays"
      ]
    },
    {
      "cell_type": "code",
      "metadata": {
        "id": "-PMPpF5QJ2yi",
        "colab_type": "code",
        "colab": {}
      },
      "source": [
        "X_train_tensor = torch.from_numpy(X_train).float()\n",
        "W_train_tensor = torch.from_numpy(W_bcd).float()\n",
        "W0_train_tensor = torch.from_numpy(W0_train).float()\n",
        "\n",
        "X_test_tensor = torch.from_numpy(X_test).float()\n",
        "# W_test_tensor = torch.from_numpy(W_test_cd).float()\n",
        "W0_test_tensor = torch.from_numpy(W0_test).float()"
      ],
      "execution_count": null,
      "outputs": []
    },
    {
      "cell_type": "markdown",
      "metadata": {
        "id": "NHxtKvfUR4U6",
        "colab_type": "text"
      },
      "source": [
        "## Basic Model\n",
        "9 layers with non-negative constrains on weights\n",
        "\n",
        "Trained with Graident decent"
      ]
    },
    {
      "cell_type": "markdown",
      "metadata": {
        "id": "Xk0qxJk-DLMg",
        "colab_type": "text"
      },
      "source": [
        "### Training The Network"
      ]
    },
    {
      "cell_type": "code",
      "metadata": {
        "id": "06lxq6f9LWMT",
        "colab_type": "code",
        "colab": {}
      },
      "source": [
        "%%capture\n",
        "constraints = utils.WeightClipper()\n",
        "fr_nmf = MultiBetaDNMFNet(12,1, n_components, features)\n",
        "fr_nmf.apply(constraints)\n",
        "criterion = nn.MSELoss()    \n",
        "optimizerSGD = optim.SGD(fr_nmf.parameters(), lr=1e-4)\n",
        "optimizerADAM = optim.Adam(fr_nmf.parameters(), lr=1e-4)"
      ],
      "execution_count": null,
      "outputs": []
    },
    {
      "cell_type": "code",
      "metadata": {
        "id": "sX71JeI8BIMh",
        "colab_type": "code",
        "colab": {},
        "outputId": "6ab4c840-8745-4a9d-945d-ee1309d003f7"
      },
      "source": [
        "inputs = (W0_train_tensor, X_train_tensor)\n",
        "loss_values = []\n",
        "for i in range(1000):\n",
        "\n",
        "    out = fr_nmf(*inputs)\n",
        "    loss = criterion(out, W_train_tensor)\n",
        "    # print(i, loss.item())\n",
        "\n",
        "    optimizerADAM.zero_grad()\n",
        "    loss.backward()\n",
        "    optimizerADAM.step()\n",
        "\n",
        "    fr_nmf.apply(constraints) # keep wieghts positive\n",
        "    loss_values.append(loss.item())"
      ],
      "execution_count": null,
      "outputs": []
    },
    {
      "cell_type": "code",
      "metadata": {
        "id": "rQJPKYyaMpRX",
        "colab_type": "code",
        "colab": {
          "base_uri": "https://localhost:8080/",
          "height": 293
        },
        "outputId": "1bb34866-72fd-4573-e964-e539280b4148"
      },
      "source": [
        "plt.plot(loss_values)"
      ],
      "execution_count": null,
      "outputs": []
    },
    {
      "cell_type": "markdown",
      "metadata": {
        "id": "vW-kUll5NkbD",
        "colab_type": "text"
      },
      "source": [
        "### Compare with Test Data\n",
        "comparison is on the reconstruction Error"
      ]
    },
    {
      "cell_type": "code",
      "metadata": {
        "id": "79SQFCirNi0v",
        "colab_type": "code",
        "colab": {}
      },
      "source": [
        "test_inputs = (W0_test_tensor, X_test_tensor)\n",
        "netwrok_prediction = deep_nmf_5(*test_inputs)"
      ],
      "execution_count": null,
      "outputs": []
    },
    {
      "cell_type": "code",
      "metadata": {
        "id": "O6Sn9XbHQcUJ",
        "colab_type": "code",
        "colab": {
          "base_uri": "https://localhost:8080/",
          "height": 35
        },
        "outputId": "7f5761eb-308f-4e18-aaba-b21e8644e427"
      },
      "source": [
        "network_error = utils.frobinuis_reconstruct_error(X_test_tensor, netwrok_prediction, H)\n",
        "print('deep NMF Error: ', network_error)"
      ],
      "execution_count": null,
      "outputs": []
    },
    {
      "cell_type": "code",
      "metadata": {
        "id": "gthkO2KON7yb",
        "colab_type": "code",
        "colab": {
          "base_uri": "https://localhost:8080/",
          "height": 35
        },
        "outputId": "806d2d1d-37e9-48a5-fdcd-bae791be900f"
      },
      "source": [
        "mu_error = utils.frobinuis_reconstruct_error(X_test_tensor, W_test_tensor, H)\n",
        "print('regular MU Error: ', mu_error)"
      ],
      "execution_count": null,
      "outputs": []
    }
  ],
  "metadata": {
    "colab": {
      "name": "comparison.ipynb",
      "provenance": [],
      "collapsed_sections": [],
      "toc_visible": true,
      "include_colab_link": true
    },
    "kernelspec": {
      "name": "python37664bitnmfvirtualenvacb04322a3ff4390a23cb4b66be0591e",
      "display_name": "Python 3.7.6 64-bit ('nmf': virtualenv)"
    }
  },
  "nbformat": 4,
  "nbformat_minor": 0
}